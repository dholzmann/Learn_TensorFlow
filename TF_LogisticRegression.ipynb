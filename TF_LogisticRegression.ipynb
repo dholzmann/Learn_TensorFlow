{
  "nbformat": 4,
  "nbformat_minor": 0,
  "metadata": {
    "colab": {
      "name": "TF_LogisticRegression.ipynb",
      "provenance": [],
      "authorship_tag": "ABX9TyM2diyHZIeJbey7tlOR/x2J",
      "include_colab_link": true
    },
    "kernelspec": {
      "name": "python3",
      "display_name": "Python 3"
    },
    "language_info": {
      "name": "python"
    }
  },
  "cells": [
    {
      "cell_type": "markdown",
      "metadata": {
        "id": "view-in-github",
        "colab_type": "text"
      },
      "source": [
        "<a href=\"https://colab.research.google.com/github/dholzmann/Learn_TensorFlow/blob/main/TF_LogisticRegression.ipynb\" target=\"_parent\"><img src=\"https://colab.research.google.com/assets/colab-badge.svg\" alt=\"Open In Colab\"/></a>"
      ]
    },
    {
      "cell_type": "markdown",
      "metadata": {
        "id": "y9GGYHEMpHJq"
      },
      "source": [
        "# TensorFlow - Logistic Regression"
      ]
    },
    {
      "cell_type": "code",
      "metadata": {
        "id": "t50hm6AzpGnm"
      },
      "source": [
        "import tensorflow as tf\n",
        "import pandas as pd\n",
        "import numpy as np\n",
        "import time\n",
        "from sklearn.datasets import load_iris\n",
        "from sklearn.model_selection import train_test_split\n",
        "import matplotlib.pyplot as plt"
      ],
      "execution_count": null,
      "outputs": []
    },
    {
      "cell_type": "code",
      "metadata": {
        "id": "NANfb6_1qTQV"
      },
      "source": [
        "iris = load_iris()\n",
        "iris_X, iris_y = iris.data[:-1,:], iris.target[:-1]\n",
        "iris_y= pd.get_dummies(iris_y).values\n",
        "trainX, testX, trainY, testY = train_test_split(iris_X, iris_y, test_size=0.33, random_state=42)"
      ],
      "execution_count": null,
      "outputs": []
    },
    {
      "cell_type": "code",
      "metadata": {
        "colab": {
          "base_uri": "https://localhost:8080/"
        },
        "id": "DV5JSOt7qYX2",
        "outputId": "af5b43be-0280-4a22-cc7c-f8eb09b4848b"
      },
      "source": [
        "# numFeatures is the number of features in our input data.\n",
        "# In the iris dataset, this number is '4'.\n",
        "numFeatures = trainX.shape[1]\n",
        "print('numFeatures is : ', numFeatures )\n",
        "# numLabels is the number of classes our data points can be in.\n",
        "# In the iris dataset, this number is '3'.\n",
        "numLabels = trainY.shape[1]\n",
        "print('numLabels is : ', numLabels )\n",
        "\n",
        "#X = tf.Variable( np.identity(numFeatures), tf.TensorShape(numFeatures),dtype='float32') # Iris has 4 features, so X is a tensor to hold our data.\n",
        "#yGold = tf.Variable(np.array([1,1,1]),shape=tf.TensorShape(numLabels),dtype='float32') # This will be our correct answers matrix for 3 classes."
      ],
      "execution_count": null,
      "outputs": [
        {
          "output_type": "stream",
          "text": [
            "numFeatures is :  4\n",
            "numLabels is :  3\n"
          ],
          "name": "stdout"
        }
      ]
    },
    {
      "cell_type": "code",
      "metadata": {
        "id": "t6rzz5KMq1BR"
      },
      "source": [
        "trainX = tf.constant(trainX, dtype='float32')\n",
        "trainY = tf.constant(trainY, dtype='float32')\n",
        "testX = tf.constant(testX, dtype='float32')\n",
        "testY = tf.constant(testY, dtype='float32')"
      ],
      "execution_count": null,
      "outputs": []
    },
    {
      "cell_type": "code",
      "metadata": {
        "id": "uv4ZyNuprXBv"
      },
      "source": [
        "#Randomly sample from a normal distribution with standard deviation .01\n",
        "\n",
        "weights = tf.Variable(tf.random.normal([numFeatures,numLabels],\n",
        "                                       mean=0.,\n",
        "                                       stddev=0.01,\n",
        "                                       name=\"weights\"),dtype='float32')\n",
        "\n",
        "\n",
        "bias = tf.Variable(tf.random.normal([1,numLabels],\n",
        "                                    mean=0.,\n",
        "                                    stddev=0.01,\n",
        "                                    name=\"bias\"))"
      ],
      "execution_count": null,
      "outputs": []
    },
    {
      "cell_type": "code",
      "metadata": {
        "id": "Zo9Yg4VPrkER"
      },
      "source": [
        "def logistic_regression(x):\n",
        "    apply_weights_OP = tf.matmul(x, weights, name=\"apply_weights\")\n",
        "    add_bias_OP = tf.add(apply_weights_OP, bias, name=\"add_bias\") \n",
        "    activation_OP = tf.nn.sigmoid(add_bias_OP, name=\"activation\")\n",
        "    return activation_OP"
      ],
      "execution_count": null,
      "outputs": []
    },
    {
      "cell_type": "code",
      "metadata": {
        "id": "dfhGBGpxswxA"
      },
      "source": [
        "# Number of Epochs in our training\n",
        "numEpochs = 900\n",
        "\n",
        "# Defining our learning rate iterations (decay)\n",
        "learningRate = tf.keras.optimizers.schedules.ExponentialDecay(initial_learning_rate=0.0008,\n",
        "                                          decay_steps=trainX.shape[0],\n",
        "                                          decay_rate= 0.95,\n",
        "                                          staircase=True)\n",
        "#Defining our cost function - Squared Mean Error\n",
        "loss_object = tf.keras.losses.MeanSquaredLogarithmicError()\n",
        "optimizer = tf.keras.optimizers.SGD(learningRate)"
      ],
      "execution_count": null,
      "outputs": []
    },
    {
      "cell_type": "code",
      "metadata": {
        "id": "aAp7S93btBOc"
      },
      "source": [
        "# Accuracy metric.\n",
        "def accuracy(y_pred, y_true):\n",
        "# Predicted class is the index of the highest score in prediction vector (i.e. argmax).\n",
        "\n",
        "    correct_prediction = tf.equal(tf.argmax(y_pred, 1), tf.argmax(y_true, 1))\n",
        "\n",
        "    return tf.reduce_mean(tf.cast(correct_prediction, tf.float32))"
      ],
      "execution_count": null,
      "outputs": []
    },
    {
      "cell_type": "code",
      "metadata": {
        "id": "sMGY4YsGuFJr"
      },
      "source": [
        "# Optimization process. \n",
        "\n",
        "def run_optimization(x, y):\n",
        "    with tf.GradientTape() as g:\n",
        "        pred = logistic_regression(x)\n",
        "        loss = loss_object(pred, y)\n",
        "        gradients = g.gradient(loss, [weights, bias])\n",
        "        optimizer.apply_gradients(zip(gradients, [weights, bias]))"
      ],
      "execution_count": null,
      "outputs": []
    },
    {
      "cell_type": "code",
      "metadata": {
        "colab": {
          "base_uri": "https://localhost:8080/"
        },
        "id": "KUXCtHiWusQn",
        "outputId": "6798275e-bf17-4d55-8fea-8b26bc386a51"
      },
      "source": [
        "# Initialize reporting variables\n",
        "display_step = 10\n",
        "epoch_values = []\n",
        "accuracy_values = []\n",
        "loss_values = []\n",
        "loss = 0\n",
        "diff = 1\n",
        "# Training epochs\n",
        "for i in range(numEpochs):\n",
        "    if i > 1 and diff < .0001:\n",
        "        print(\"change in loss %g; convergence.\"%diff)\n",
        "        break\n",
        "    else:\n",
        "        # Run training step\n",
        "        run_optimization(trainX, trainY)\n",
        "        \n",
        "        # Report occasional stats\n",
        "        if i % display_step == 0:\n",
        "            # Add epoch to epoch_values\n",
        "            epoch_values.append(i)\n",
        "            \n",
        "            pred = logistic_regression(testX)\n",
        "\n",
        "            newLoss = loss_object(pred, testY)\n",
        "            # Add loss to live graphing variable\n",
        "            loss_values.append(newLoss)\n",
        "            \n",
        "            # Generate accuracy stats on test data\n",
        "            acc = accuracy(pred, testY)\n",
        "            accuracy_values.append(acc)\n",
        "            \n",
        "    \n",
        "            # Re-assign values for variables\n",
        "            diff = abs(newLoss - loss)\n",
        "            loss = newLoss\n",
        "\n",
        "            #generate print statements\n",
        "            print(\"step %d, training accuracy %g, loss %g, change in loss %g\"%(i, acc, newLoss, diff))\n",
        "\n",
        "        \n",
        "\n",
        "          \n",
        "\n",
        "# How well do we perform on held-out test data?\n",
        "print(\"final accuracy on test set: %s\" %acc.numpy())\n"
      ],
      "execution_count": null,
      "outputs": [
        {
          "output_type": "stream",
          "text": [
            "step 0, training accuracy 0.32, loss 0.11266, change in loss 0.11266\n",
            "step 10, training accuracy 0.32, loss 0.112478, change in loss 0.000182472\n",
            "step 20, training accuracy 0.32, loss 0.112298, change in loss 0.000179209\n",
            "step 30, training accuracy 0.32, loss 0.112122, change in loss 0.00017599\n",
            "step 40, training accuracy 0.32, loss 0.11195, change in loss 0.000172839\n",
            "step 50, training accuracy 0.32, loss 0.11178, change in loss 0.000169754\n",
            "step 60, training accuracy 0.32, loss 0.111613, change in loss 0.000166737\n",
            "step 70, training accuracy 0.32, loss 0.111449, change in loss 0.000163801\n",
            "step 80, training accuracy 0.32, loss 0.111288, change in loss 0.000160903\n",
            "step 90, training accuracy 0.32, loss 0.11113, change in loss 0.000158094\n",
            "step 100, training accuracy 0.32, loss 0.110977, change in loss 0.000153773\n",
            "step 110, training accuracy 0.32, loss 0.110831, change in loss 0.000145078\n",
            "step 120, training accuracy 0.32, loss 0.110689, change in loss 0.000142694\n",
            "step 130, training accuracy 0.32, loss 0.110548, change in loss 0.000140354\n",
            "step 140, training accuracy 0.32, loss 0.11041, change in loss 0.000138059\n",
            "step 150, training accuracy 0.32, loss 0.110275, change in loss 0.000135817\n",
            "step 160, training accuracy 0.32, loss 0.110141, change in loss 0.000133619\n",
            "step 170, training accuracy 0.32, loss 0.110009, change in loss 0.00013148\n",
            "step 180, training accuracy 0.32, loss 0.10988, change in loss 0.000129357\n",
            "step 190, training accuracy 0.32, loss 0.109753, change in loss 0.000127316\n",
            "step 200, training accuracy 0.32, loss 0.109629, change in loss 0.000123426\n",
            "step 210, training accuracy 0.32, loss 0.109512, change in loss 0.000117213\n",
            "step 220, training accuracy 0.32, loss 0.109397, change in loss 0.000115462\n",
            "step 230, training accuracy 0.32, loss 0.109283, change in loss 0.000113763\n",
            "step 240, training accuracy 0.32, loss 0.109171, change in loss 0.000112057\n",
            "step 250, training accuracy 0.32, loss 0.10906, change in loss 0.000110425\n",
            "step 260, training accuracy 0.32, loss 0.108952, change in loss 0.000108816\n",
            "step 270, training accuracy 0.32, loss 0.108844, change in loss 0.000107229\n",
            "step 280, training accuracy 0.32, loss 0.108739, change in loss 0.000105686\n",
            "step 290, training accuracy 0.32, loss 0.108635, change in loss 0.000104144\n",
            "step 300, training accuracy 0.32, loss 0.108534, change in loss 0.000100635\n",
            "step 310, training accuracy 0.32, loss 0.108438, change in loss 9.61944e-05\n",
            "change in loss 9.61944e-05; convergence.\n",
            "final accuracy on test set: 0.32\n"
          ],
          "name": "stdout"
        }
      ]
    },
    {
      "cell_type": "code",
      "metadata": {
        "colab": {
          "base_uri": "https://localhost:8080/",
          "height": 353
        },
        "id": "2LE-7rDdvg1R",
        "outputId": "86093fb5-66d6-4aa5-9acb-d06768f70df6"
      },
      "source": [
        "%matplotlib inline\n",
        "import numpy as np\n",
        "import matplotlib.pyplot as plt\n",
        "plt.plot([np.mean(loss_values[i-50:i]) for i in range(len(loss_values))])\n",
        "plt.show()"
      ],
      "execution_count": null,
      "outputs": [
        {
          "output_type": "stream",
          "text": [
            "/usr/local/lib/python3.7/dist-packages/numpy/core/fromnumeric.py:3373: RuntimeWarning: Mean of empty slice.\n",
            "  out=out, **kwargs)\n",
            "/usr/local/lib/python3.7/dist-packages/numpy/core/_methods.py:170: RuntimeWarning: invalid value encountered in double_scalars\n",
            "  ret = ret.dtype.type(ret / rcount)\n"
          ],
          "name": "stderr"
        },
        {
          "output_type": "display_data",
          "data": {
            "image/png": "[encoded data removed]",
            "text/plain": [
              "<Figure size 432x288 with 1 Axes>"
            ]
          },
          "metadata": {
            "tags": [],
            "needs_background": "light"
          }
        }
      ]
    }
  ]
}